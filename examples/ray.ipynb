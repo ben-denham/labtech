{
 "cells": [
  {
   "cell_type": "code",
   "execution_count": null,
   "id": "a822d785-be7a-40bd-b4f3-15baeba3a418",
   "metadata": {},
   "outputs": [],
   "source": [
    "import os\n",
    "# Must be set before importing ray and labtech.runners.ray\n",
    "os.environ['RAY_DEDUP_LOGS'] = '0'"
   ]
  },
  {
   "cell_type": "code",
   "execution_count": null,
   "id": "3f51578a-2523-45e2-b0cb-2b4129832f01",
   "metadata": {},
   "outputs": [],
   "source": [
    "from enum import Enum\n",
    "from time import sleep\n",
    "\n",
    "import mlflow\n",
    "import ray\n",
    "from s3fs import S3FileSystem\n",
    "\n",
    "import labtech\n",
    "from labtech.storage import FsspecStorage\n",
    "from labtech.runners.ray import RayRunnerBackend"
   ]
  },
  {
   "cell_type": "code",
   "execution_count": null,
   "id": "4b464fce-f315-4486-8696-6c0e6e3003cb",
   "metadata": {
    "scrolled": true
   },
   "outputs": [],
   "source": [
    "def worker_setup():\n",
    "    # Initialise mlflow on each worker\n",
    "    mlflow.set_tracking_uri('examples/storage/mlruns')\n",
    "    mlflow.set_experiment('example_ray_experiment')\n",
    "\n",
    "# Will start a ray cluster, or connect to one started with: make ray-up\n",
    "ray.init(\n",
    "    runtime_env={\n",
    "        'worker_process_setup_hook': worker_setup,\n",
    "    },\n",
    ")"
   ]
  },
  {
   "cell_type": "code",
   "execution_count": null,
   "id": "28eb74a8-329b-4d9a-8598-360eed6af57e",
   "metadata": {},
   "outputs": [],
   "source": [
    "# Use a localstack-emulated S3 bucket to serve as distributed storage for results.\n",
    "# Make sure localstack is running: make localstack\n",
    "class S3fsStorage(FsspecStorage):\n",
    "\n",
    "    def fs_constructor(self):\n",
    "        return S3FileSystem(\n",
    "            # Use localstack endpoint:\n",
    "            endpoint_url='http://localhost:4566',\n",
    "            key='anything',\n",
    "            secret='anything',\n",
    "        )"
   ]
  },
  {
   "cell_type": "code",
   "execution_count": null,
   "id": "b07a4247-ad01-45b2-a730-d6b41469ea96",
   "metadata": {
    "scrolled": true,
    "tags": []
   },
   "outputs": [],
   "source": [
    "class Multiplier(Enum):\n",
    "    ONE = 1\n",
    "    TWO = 2\n",
    "    THREE = 3\n",
    "\n",
    "\n",
    "@labtech.task(mlflow_run=True)\n",
    "class Experiment:\n",
    "    seed: int\n",
    "    multiplier: Multiplier\n",
    "\n",
    "    def run(self):\n",
    "        labtech.logger.info(f'Running with seed {self.seed} and multiplier {self.multiplier}')\n",
    "        sleep(3)\n",
    "        return self.seed * self.multiplier.value\n",
    "\n",
    "\n",
    "experiments = [\n",
    "    Experiment(\n",
    "        seed=seed,\n",
    "        multiplier=multiplier,\n",
    "    )\n",
    "    for seed in range(10)\n",
    "    for multiplier in Multiplier\n",
    "]\n",
    "\n",
    "lab = labtech.Lab(\n",
    "    storage=S3fsStorage('labtech-dev-bucket'),\n",
    "    runner_backend=RayRunnerBackend(),\n",
    ")\n",
    "\n",
    "cached_experiments = lab.cached_tasks([Experiment])\n",
    "print(f'Clearing {len(cached_experiments)} cached experiments.')\n",
    "lab.uncache_tasks(cached_experiments)\n",
    "\n",
    "results = lab.run_tasks(experiments, bust_cache=True)\n",
    "print(results)"
   ]
  }
 ],
 "metadata": {
  "kernelspec": {
   "display_name": "Python 3 (ipykernel)",
   "language": "python",
   "name": "python3"
  },
  "language_info": {
   "codemirror_mode": {
    "name": "ipython",
    "version": 3
   },
   "file_extension": ".py",
   "mimetype": "text/x-python",
   "name": "python",
   "nbconvert_exporter": "python",
   "pygments_lexer": "ipython3",
   "version": "3.11.5"
  }
 },
 "nbformat": 4,
 "nbformat_minor": 5
}
