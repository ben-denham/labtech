{
 "cells": [
  {
   "cell_type": "code",
   "execution_count": null,
   "id": "f514fdb0-b774-4bdb-9611-b3c6578aa01f",
   "metadata": {},
   "outputs": [],
   "source": [
    "%pip install labtech"
   ]
  },
  {
   "cell_type": "code",
   "execution_count": 2,
   "id": "16f6d7f2-d23f-4bf4-a9a7-b47c830464b5",
   "metadata": {},
   "outputs": [],
   "source": [
    "import sys; sys.path.append(\"..\")"
   ]
  },
  {
   "cell_type": "code",
   "execution_count": 3,
   "id": "b07a4247-ad01-45b2-a730-d6b41469ea96",
   "metadata": {
    "scrolled": true,
    "tags": []
   },
   "outputs": [
    {
     "name": "stdout",
     "output_type": "stream",
     "text": [
      "Clearing 0 cached experiments.\n"
     ]
    },
    {
     "data": {
      "application/vnd.jupyter.widget-view+json": {
       "model_id": "2adc5a5768a8427f8b9829d737b13c05",
       "version_major": 2,
       "version_minor": 0
      },
      "text/plain": [
       "Experiment: 0/30 [00:00, ?tasks/s] |          |   0% [? remaining]"
      ]
     },
     "metadata": {},
     "output_type": "display_data"
    },
    {
     "name": "stderr",
     "output_type": "stream",
     "text": [
      "2024-02-06 16:49:01/Experiment[01]/INFO: Running with seed 0 and multiplier Multiplier.ONE\n",
      "2024-02-06 16:49:01/Experiment[02]/INFO: Running with seed 0 and multiplier Multiplier.TWO\n",
      "2024-02-06 16:49:01/Experiment[04]/INFO: Running with seed 1 and multiplier Multiplier.ONE\n",
      "2024-02-06 16:49:01/Experiment[03]/INFO: Running with seed 0 and multiplier Multiplier.THREE\n",
      "2024-02-06 16:49:01/Experiment[06]/INFO: Running with seed 1 and multiplier Multiplier.THREE\n",
      "2024-02-06 16:49:01/Experiment[05]/INFO: Running with seed 1 and multiplier Multiplier.TWO\n",
      "2024-02-06 16:49:01/Experiment[09]/INFO: Running with seed 2 and multiplier Multiplier.THREE\n",
      "2024-02-06 16:49:01/Experiment[08]/INFO: Running with seed 2 and multiplier Multiplier.TWO\n",
      "2024-02-06 16:49:01/Experiment[07]/INFO: Running with seed 2 and multiplier Multiplier.ONE\n",
      "2024-02-06 16:49:01/Experiment[10]/INFO: Running with seed 3 and multiplier Multiplier.ONE\n",
      "2024-02-06 16:49:01/Experiment[12]/INFO: Running with seed 3 and multiplier Multiplier.THREE\n",
      "2024-02-06 16:49:01/Experiment[11]/INFO: Running with seed 3 and multiplier Multiplier.TWO\n",
      "2024-02-06 16:49:01/Experiment[13]/INFO: Running with seed 4 and multiplier Multiplier.ONE\n",
      "2024-02-06 16:49:01/Experiment[15]/INFO: Running with seed 4 and multiplier Multiplier.THREE\n",
      "2024-02-06 16:49:01/Experiment[14]/INFO: Running with seed 4 and multiplier Multiplier.TWO\n",
      "2024-02-06 16:49:01/Experiment[16]/INFO: Running with seed 5 and multiplier Multiplier.ONE\n",
      "2024-02-06 16:49:01/Experiment[17]/INFO: Running with seed 5 and multiplier Multiplier.TWO\n",
      "2024-02-06 16:49:01/Experiment[18]/INFO: Running with seed 5 and multiplier Multiplier.THREE\n",
      "2024-02-06 16:49:01/Experiment[20]/INFO: Running with seed 6 and multiplier Multiplier.TWO\n",
      "2024-02-06 16:49:01/Experiment[22]/INFO: Running with seed 7 and multiplier Multiplier.ONE\n",
      "2024-02-06 16:49:01/Experiment[23]/INFO: Running with seed 7 and multiplier Multiplier.TWO\n",
      "2024-02-06 16:49:01/Experiment[19]/INFO: Running with seed 6 and multiplier Multiplier.ONE\n",
      "2024-02-06 16:49:01/Experiment[21]/INFO: Running with seed 6 and multiplier Multiplier.THREE\n",
      "2024-02-06 16:49:01/Experiment[24]/INFO: Running with seed 7 and multiplier Multiplier.THREE\n",
      "2024-02-06 16:49:01/Experiment[25]/INFO: Running with seed 8 and multiplier Multiplier.ONE\n",
      "2024-02-06 16:49:01/Experiment[26]/INFO: Running with seed 8 and multiplier Multiplier.TWO\n",
      "2024-02-06 16:49:01/Experiment[28]/INFO: Running with seed 9 and multiplier Multiplier.ONE\n",
      "2024-02-06 16:49:01/Experiment[27]/INFO: Running with seed 8 and multiplier Multiplier.THREE\n",
      "2024-02-06 16:49:01/Experiment[30]/INFO: Running with seed 9 and multiplier Multiplier.THREE\n",
      "2024-02-06 16:49:01/Experiment[29]/INFO: Running with seed 9 and multiplier Multiplier.TWO\n"
     ]
    },
    {
     "name": "stdout",
     "output_type": "stream",
     "text": [
      "{Experiment(seed=0, multiplier=<Multiplier.ONE: 1>): 0, Experiment(seed=0, multiplier=<Multiplier.TWO: 2>): 0, Experiment(seed=2, multiplier=<Multiplier.THREE: 3>): 6, Experiment(seed=1, multiplier=<Multiplier.ONE: 1>): 1, Experiment(seed=2, multiplier=<Multiplier.ONE: 1>): 2, Experiment(seed=3, multiplier=<Multiplier.ONE: 1>): 3, Experiment(seed=1, multiplier=<Multiplier.TWO: 2>): 2, Experiment(seed=2, multiplier=<Multiplier.TWO: 2>): 4, Experiment(seed=0, multiplier=<Multiplier.THREE: 3>): 0, Experiment(seed=1, multiplier=<Multiplier.THREE: 3>): 3, Experiment(seed=3, multiplier=<Multiplier.THREE: 3>): 9, Experiment(seed=3, multiplier=<Multiplier.TWO: 2>): 6, Experiment(seed=4, multiplier=<Multiplier.ONE: 1>): 4, Experiment(seed=4, multiplier=<Multiplier.THREE: 3>): 12, Experiment(seed=4, multiplier=<Multiplier.TWO: 2>): 8, Experiment(seed=5, multiplier=<Multiplier.ONE: 1>): 5, Experiment(seed=5, multiplier=<Multiplier.TWO: 2>): 10, Experiment(seed=6, multiplier=<Multiplier.TWO: 2>): 12, Experiment(seed=5, multiplier=<Multiplier.THREE: 3>): 15, Experiment(seed=7, multiplier=<Multiplier.ONE: 1>): 7, Experiment(seed=7, multiplier=<Multiplier.TWO: 2>): 14, Experiment(seed=6, multiplier=<Multiplier.THREE: 3>): 18, Experiment(seed=6, multiplier=<Multiplier.ONE: 1>): 6, Experiment(seed=7, multiplier=<Multiplier.THREE: 3>): 21, Experiment(seed=8, multiplier=<Multiplier.ONE: 1>): 8, Experiment(seed=9, multiplier=<Multiplier.TWO: 2>): 18, Experiment(seed=8, multiplier=<Multiplier.THREE: 3>): 24, Experiment(seed=9, multiplier=<Multiplier.THREE: 3>): 27, Experiment(seed=9, multiplier=<Multiplier.ONE: 1>): 9, Experiment(seed=8, multiplier=<Multiplier.TWO: 2>): 16}\n"
     ]
    }
   ],
   "source": [
    "from enum import Enum\n",
    "\n",
    "import labtech\n",
    "\n",
    "\n",
    "class Multiplier(Enum):\n",
    "    ONE = 1\n",
    "    TWO = 2\n",
    "    THREE = 3\n",
    "\n",
    "\n",
    "@labtech.task\n",
    "class Experiment:\n",
    "    seed: int\n",
    "    multiplier: Multiplier\n",
    "\n",
    "    def run(self):\n",
    "        labtech.logger.info(f'Running with seed {self.seed} and multiplier {self.multiplier}')\n",
    "        return self.seed * self.multiplier.value\n",
    "\n",
    "\n",
    "experiments = [\n",
    "    Experiment(\n",
    "        seed=seed,\n",
    "        multiplier=multiplier,\n",
    "    )\n",
    "    for seed in range(10)\n",
    "    for multiplier in Multiplier\n",
    "]\n",
    "\n",
    "\n",
    "lab = labtech.Lab(\n",
    "    storage='storage/ipy_basic_lab',\n",
    "    notebook=True,\n",
    ")\n",
    "cached_experiments = lab.cached_tasks([Experiment])\n",
    "print(f'Clearing {len(cached_experiments)} cached experiments.')\n",
    "lab.uncache_tasks(cached_experiments)\n",
    "results = lab.run_tasks(experiments)\n",
    "print(results)"
   ]
  }
 ],
 "metadata": {
  "kernelspec": {
   "display_name": "Python 3 (ipykernel)",
   "language": "python",
   "name": "python3"
  },
  "language_info": {
   "codemirror_mode": {
    "name": "ipython",
    "version": 3
   },
   "file_extension": ".py",
   "mimetype": "text/x-python",
   "name": "python",
   "nbconvert_exporter": "python",
   "pygments_lexer": "ipython3",
   "version": "3.10.12"
  }
 },
 "nbformat": 4,
 "nbformat_minor": 5
}
